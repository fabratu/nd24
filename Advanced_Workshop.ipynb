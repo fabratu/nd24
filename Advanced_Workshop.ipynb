{
 "cells": [
  {
   "cell_type": "markdown",
   "metadata": {},
   "source": [
    "# Requirements:"
   ]
  },
  {
   "cell_type": "code",
   "execution_count": null,
   "metadata": {},
   "outputs": [],
   "source": [
    "!pip install numpy==1.26.4"
   ]
  },
  {
   "cell_type": "markdown",
   "metadata": {},
   "source": [
    "After executing the cell above, go to \"Runtime\" -> \"Restart Session\" (once). Otherwise the new (and needed) numpy version will not be recognized by Colab."
   ]
  },
  {
   "cell_type": "code",
   "execution_count": null,
   "metadata": {},
   "outputs": [],
   "source": [
    "!wget https://raw.githubusercontent.com/fabratu/nd24/main/networkit-11.0-cp310-cp310-manylinux_2_17_x86_64.manylinux2014_x86_64.whl\n",
    "!wget https://raw.githubusercontent.com/fabratu/nd24/main/tiny_01.graph"
   ]
  },
  {
   "cell_type": "code",
   "execution_count": null,
   "metadata": {},
   "outputs": [],
   "source": [
    "%pip install --force-reinstall ./networkit-11.0-cp310-cp310-manylinux_2_17_x86_64.manylinux2014_x86_64.whl\n",
    "%pip install seaborn plotly ipycytoscape networkx tabulate osmnx folium"
   ]
  },
  {
   "cell_type": "markdown",
   "metadata": {},
   "source": [
    "The two cells above need also only to be executed once before you start with the content. Enjoy!"
   ]
  },
  {
   "cell_type": "markdown",
   "metadata": {},
   "source": [
    "# NetworKit: Dynamic Algorithms, OpenStreetMap data, and advanced visualization tools"
   ]
  },
  {
   "cell_type": "code",
   "execution_count": null,
   "metadata": {},
   "outputs": [],
   "source": [
    "import networkit as nk\n",
    "from networkit import vizbridges\n",
    "from networkit.vizbridges import Dimension\n",
    "from networkit.dynamics import GraphEventType\n",
    "\n",
    "import osmnx as ox\n",
    "import networkx as nx\n",
    "import seaborn as sns\n",
    "import folium\n",
    "\n",
    "import ast"
   ]
  },
  {
   "cell_type": "markdown",
   "metadata": {},
   "source": [
    "# Dynamic Algorithms\n",
    "When updating the graph (adding/removing nodes/edges), dynamic algorithms can compute the result for the updated graph directly from the previous result, without the need to re-run the entire algorithm.\n",
    "\n",
    "We use two dynamic algorithms to compute properties of a dynamic graph:  \n",
    "- `DynDijkstra`: find a shortest path\n",
    "- `DynApproxBetweenness`: approximates betweenness centrality\n",
    "\n",
    "First, load a graph and run both algorithms on this initial graph:"
   ]
  },
  {
   "cell_type": "code",
   "execution_count": null,
   "metadata": {},
   "outputs": [],
   "source": [
    "# load a graph\n",
    "G = nk.readGraph('tiny_01.graph', nk.Format.METIS)\n",
    "\n",
    "# dijkstra algorithm with source node 0\n",
    "dijkstra = nk.distance.DynDijkstra(G, 0)\n",
    "dijkstra.run()\n",
    "\n",
    "betweenness = nk.centrality.DynApproxBetweenness(G)\n",
    "betweenness.run()\n",
    "\n",
    "nk.overview(G)"
   ]
  },
  {
   "cell_type": "markdown",
   "metadata": {},
   "source": [
    "Next, we want to visualize the graph, color code the nodes based on their centrality score, and draw the shortest path from node `0` to node `6`."
   ]
  },
  {
   "cell_type": "code",
   "execution_count": null,
   "metadata": {},
   "outputs": [],
   "source": [
    "# compute the path from souce to target using the results of the dijkstra algorithm\n",
    "def getPath(dijkstra: nk.distance.DynDijkstra, source: int, target: int):\n",
    "    path = []\n",
    "    prev = target\n",
    "    while prev != source:\n",
    "        path.append(prev)\n",
    "        prev = dijkstra.getPredecessors(prev)[-1]\n",
    "    path.append(prev)\n",
    "    path.reverse()\n",
    "    return path\n",
    "\n",
    "# visualization function\n",
    "def visualizeDistances(G: nk.Graph, dijkstra: nk.distance.DynDijkstra, centrality: nk.centrality.DynApproxBetweenness):\n",
    "    # get path from 0 to 6\n",
    "    path = getPath(dijkstra, 0, 6)\n",
    "\n",
    "    # create scores dictionary to visualize the path\n",
    "    # 0 = edge not on path\n",
    "    # 1 = edge on path\n",
    "    pathScores = {(u,v): 0 for u,v in G.iterEdges()}\n",
    "    for u,v in zip(path, path[1:]):\n",
    "        pathScores[u,v] = 1\n",
    "\n",
    "    # centrality scores as colors\n",
    "    centralityScores = centrality.scores()\n",
    "\n",
    "    # create widget\n",
    "    G.indexEdges(force=True)\n",
    "    widget = nk.vizbridges.widgetFromGraph(G, \n",
    "                                           nodeScores=centralityScores, \n",
    "                                           nodePalette=sns.light_palette(\"seagreen\"), \n",
    "                                           edgeScores=pathScores, \n",
    "                                           edgePalette=[(0.2,0.2,0.85),(0,0,0)], \n",
    "                                           dimension=Dimension.Three\n",
    "                                        )\n",
    "\n",
    "    # modify the widget - more information in the pyplot documentation\n",
    "    widget.update_layout(scene=dict(xaxis_visible=False, yaxis_visible=False,zaxis_visible=False))\n",
    "    widget.update_traces(marker=dict(size=50), line=dict(width=20))\n",
    "\n",
    "    return widget\n",
    "\n",
    "\n",
    "widget = visualizeDistances(G, dijkstra, betweenness)\n",
    "widget.show()"
   ]
  },
  {
   "cell_type": "markdown",
   "metadata": {},
   "source": [
    "#### Inspecting the widget\n"
   ]
  },
  {
   "cell_type": "markdown",
   "metadata": {},
   "source": [
    "We can inspect the widget data while modifying layout and traces (=nodes and edges) to understand what we are changing. This widget is from `pyplot` - check the docs or google to see which attributes exist."
   ]
  },
  {
   "cell_type": "code",
   "execution_count": null,
   "metadata": {},
   "outputs": [],
   "source": [
    "widget.data"
   ]
  },
  {
   "cell_type": "code",
   "execution_count": null,
   "metadata": {},
   "outputs": [],
   "source": [
    "widget.layout"
   ]
  },
  {
   "cell_type": "markdown",
   "metadata": {},
   "source": [
    "## Updating the graph\n",
    "\n",
    "The `run()` method does not need to be called again in order to adapt the result.\n",
    "Instead, dynamic algorithms provide update methods to compute the new result.\n",
    "\n",
    "In order to maintain consistent results, both the graph and the dynamic algorithm need to be adjusted.\n",
    "\n",
    "- The [graph](https://networkit.github.io/dev-docs/python_api/graph.html?highlight=graph#module-networkit.graph) needs to be changed by using the graph manipulation function equivalent to the desired result - like `G.addEdge(...)` or `G.removeEdge(...)`.\n",
    "- The dynamic algorithm needs to be changed, using [graph events](https://networkit.github.io/dev-docs/python_api/dynamics.html?highlight=graphevent#networkit.dynamics.GraphEvent) and calling the functions `update(...)` or `updateBatch(...)`.\n",
    "\n",
    "For this example, we will remove two edges: `(0,4)` and `(3,6)`"
   ]
  },
  {
   "cell_type": "code",
   "execution_count": null,
   "metadata": {},
   "outputs": [],
   "source": [
    "G.removeEdge(0,4)\n",
    "event = nk.dynamics.GraphEvent(GraphEventType.EDGE_REMOVAL, 0, 4, 1)\n",
    "dijkstra.update(event)\n",
    "betweenness.update(event)\n",
    "\n",
    "G.removeEdge(3,6)\n",
    "event = nk.dynamics.GraphEvent(GraphEventType.EDGE_REMOVAL, 3, 6, 1)\n",
    "dijkstra.update(event)\n",
    "betweenness.update(event)\n",
    "\n",
    "\n",
    "widget = visualizeDistances(G, dijkstra, betweenness)\n",
    "widget.show()"
   ]
  },
  {
   "cell_type": "markdown",
   "metadata": {},
   "source": [
    "## Using a Proxy to update dynamic algorithms\n",
    "\n",
    "Updating multiple dynamic algorithms each time results in a lot of code. We can write a small proxy class for `Graph` to call the `update` function of all registered dynamic algorithms:"
   ]
  },
  {
   "cell_type": "code",
   "execution_count": null,
   "metadata": {},
   "outputs": [],
   "source": [
    "class GraphEventProxy:\n",
    "    def __init__(self, graph: nk.Graph):\n",
    "        self._graph = graph\n",
    "        self.observers = []\n",
    "    \n",
    "    def registerObserver(self, algorithm: nk.dynbase.DynAlgorithm):\n",
    "        self.observers.append(algorithm)\n",
    "    \n",
    "    def addEdge(self, u, v, w=1.0, **kwargs):\n",
    "        self._graph.addEdge(u,v,w,**kwargs)\n",
    "        event = nk.dynamics.GraphEvent(GraphEventType.EDGE_ADDITION, u, v, w)\n",
    "        for obs in self.observers:\n",
    "            obs.update(event)\n",
    "    \n",
    "    @property\n",
    "    def graph(self):    # sometimes we need direct access to the graph object itself\n",
    "        return self._graph\n",
    "    \n",
    "    def __getattr__(self, attr):    # if we want to call a function of the graph object, __getattr__ will forward the call\n",
    "        return getattr(self._graph, attr)\n",
    "    \n",
    "\n",
    "G = GraphEventProxy(G)\n",
    "G.registerObserver(dijkstra)\n",
    "G.registerObserver(betweenness)\n",
    "\n",
    "G.addEdge(2,5)  # both dynamic algorithms are updated here\n",
    "G.addEdge(0,3)\n",
    "\n",
    "widget = visualizeDistances(G.graph, dijkstra, betweenness)  # the visualization function uses the graph object and not the proxy object\n",
    "widget.show()"
   ]
  },
  {
   "cell_type": "markdown",
   "metadata": {},
   "source": [
    "# Integration with other libraries: Using OpenStreetMap data"
   ]
  },
  {
   "cell_type": "markdown",
   "metadata": {},
   "source": [
    "## Loading OSM data\n",
    "\n",
    "We use `osmnx` to load the street network for Berlin from OSM. The resulting graph is a `networkx.MultiDiGraph`."
   ]
  },
  {
   "cell_type": "code",
   "execution_count": null,
   "metadata": {},
   "outputs": [],
   "source": [
    "location = \"Mitte, Berlin, Germany\"\n",
    "# download location with OSMnx\n",
    "oxGraph = ox.graph_from_place(\n",
    "    location,\n",
    "    network_type=\"drive\",\n",
    "    custom_filter='[\"highway\"][\"highway\"!~\"footway|bridleway|path|service|track|steps\"]',\n",
    ")\n",
    "\n",
    "oxGraph.remove_edges_from(nx.selfloop_edges(oxGraph))\n",
    "print(f\"OSMnx Berlin graph has {oxGraph.number_of_edges()} edges\")"
   ]
  },
  {
   "cell_type": "markdown",
   "metadata": {},
   "source": [
    "Before converting the graph to a NetworKit graph, we need to aggregate the data of multi edges into a single edge:"
   ]
  },
  {
   "cell_type": "code",
   "execution_count": null,
   "metadata": {},
   "outputs": [],
   "source": [
    "nxBerlinGraph = nx.DiGraph()\n",
    "for u, v in oxGraph.edges():\n",
    "    if not nxBerlinGraph.has_edge(u, v):\n",
    "        nxBerlinGraph.add_edge(u, v, \n",
    "                                  geometry=list(list(d['geometry'].coords) if 'geometry' in d else [] for d in oxGraph[u][v].values()), # geometry data is aggregated into a list\n",
    "                                  osmid=oxGraph[u][v][0]['osmid']) # osm way id of the edge\n",
    "\n",
    "# store the osm node id as node attribute to make sure it is available as networkit node attribute later on\n",
    "for n in nxBerlinGraph.nodes():\n",
    "    nxBerlinGraph.nodes[n]['id'] = n  \n",
    "\n",
    "nkBerlin = nk.nxadapter.nx2nk(nxBerlinGraph, data=True, typeMap={'osmid':str, 'id': str})\n",
    "nk.overview(nkBerlin)"
   ]
  },
  {
   "cell_type": "markdown",
   "metadata": {},
   "source": [
    "`nkBerlin` now has the following attributes:\n",
    "- nodes: `id`: OSM node id\n",
    "- edges:\n",
    "  - `geometry`: list of coordinate line strings\n",
    "  - `osmid`: OSM way id"
   ]
  },
  {
   "cell_type": "markdown",
   "metadata": {},
   "source": [
    "## Visualizing the graph on a leaflet map"
   ]
  },
  {
   "cell_type": "code",
   "execution_count": null,
   "metadata": {},
   "outputs": [],
   "source": [
    "def mapGraph(graph, highlightEdges=None):\n",
    "    map = folium.Map(location=[52.5218, 13.4107], zoom_start=14)\n",
    "    geometry = graph.getEdgeAttribute('geometry', str)\n",
    "    wayIds = graph.getEdgeAttribute('osmid', str)\n",
    "    nodeIds = graph.getNodeAttribute('id', str)\n",
    "    for edge in graph.iterEdges():\n",
    "        # turn the geometry data into list of coordinates\n",
    "        for linestring in ast.literal_eval(geometry[edge]):\n",
    "            if len(linestring) == 0:\n",
    "                continue\n",
    "            \n",
    "            wayid = \"\"\n",
    "            sourceid = \"\"\n",
    "            targetid = \"\"\n",
    "            try:\n",
    "                wayid = wayIds[edge]\n",
    "                sourceid = nodeIds[edge[0]]\n",
    "                targetid = nodeIds[edge[1]]\n",
    "            except:\n",
    "                pass\n",
    "            \n",
    "            coords = [(y,x) for x,y in linestring]\n",
    "            if highlightEdges and edge in highlightEdges:\n",
    "                color = \"#FF0000\"\n",
    "                weight = 5\n",
    "            else:\n",
    "                color = \"#0000FF\"\n",
    "                weight = 2\n",
    "            folium.PolyLine(locations=coords, \n",
    "                            color=color, \n",
    "                            weight=weight, \n",
    "                            tooltip=f\"wayids={wayid} \\\n",
    "                                source={sourceid} \\\n",
    "                                target={targetid}\"\n",
    "                        ).add_to(map)\n",
    "            \n",
    "    return map"
   ]
  },
  {
   "cell_type": "code",
   "execution_count": null,
   "metadata": {},
   "outputs": [],
   "source": [
    "mapGraph(nkBerlin)"
   ]
  },
  {
   "cell_type": "markdown",
   "metadata": {},
   "source": [
    "We choose two nodes from this graph to run the dijkstra algorithm and draw the path on our map:"
   ]
  },
  {
   "cell_type": "code",
   "execution_count": null,
   "metadata": {},
   "outputs": [],
   "source": [
    "nodeIds = nkBerlin.getNodeAttribute('id', str)\n",
    "idmap = {nodeIds[node] : node for node in nkBerlin.iterNodes()}\n",
    "\n",
    "source = idmap['660936117']\n",
    "target = idmap['29218293']\n",
    "\n",
    "dijkstra = nk.distance.DynDijkstra(nkBerlin, source)\n",
    "dijkstra.run()\n",
    "path = getPath(dijkstra, source, target)\n",
    "pathEdges = [(u,v) for u,v in zip(path, path[1:])]\n",
    "mapGraph(nkBerlin, pathEdges)"
   ]
  },
  {
   "cell_type": "markdown",
   "metadata": {},
   "source": [
    "Removing the river bridge from the graph and updating the dynamic dijkstra algorithm:"
   ]
  },
  {
   "cell_type": "code",
   "execution_count": null,
   "metadata": {},
   "outputs": [],
   "source": [
    "u = idmap['26747882']\n",
    "v = idmap['26861434']\n",
    "\n",
    "nkBerlin.removeEdge(u,v)\n",
    "nkBerlin.removeEdge(v,u)\n",
    "events = [\n",
    "    nk.dynamics.GraphEvent(GraphEventType.EDGE_REMOVAL, u, v, 1),\n",
    "    nk.dynamics.GraphEvent(GraphEventType.EDGE_REMOVAL, v, u, 1)\n",
    "]\n",
    "dijkstra.updateBatch(events)\n",
    "\n",
    "path = getPath(dijkstra, source, target)\n",
    "pathEdges = [(u,v) for u,v in zip(path, path[1:])]\n",
    "mapGraph(nkBerlin, pathEdges)"
   ]
  },
  {
   "cell_type": "code",
   "execution_count": null,
   "metadata": {},
   "outputs": [],
   "source": []
  }
 ],
 "metadata": {
  "kernelspec": {
   "display_name": "Python 3 (ipykernel)",
   "language": "python",
   "name": "python3"
  },
  "language_info": {
   "codemirror_mode": {
    "name": "ipython",
    "version": 3
   },
   "file_extension": ".py",
   "mimetype": "text/x-python",
   "name": "python",
   "nbconvert_exporter": "python",
   "pygments_lexer": "ipython3",
   "version": "3.8.17"
  }
 },
 "nbformat": 4,
 "nbformat_minor": 4
}
