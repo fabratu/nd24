{
 "cells": [
  {
   "cell_type": "markdown",
   "id": "ad9a949d-091b-48cb-8651-160d8671afd7",
   "metadata": {},
   "source": [
    "<img src=\"https://raw.githubusercontent.com/networkit/networkit/master/docs/logo/logo_color.png\" alt=\"Drawing\" style=\"width: 600px;\"/>"
   ]
  },
  {
   "cell_type": "markdown",
   "id": "aa02e40e-b758-4441-a5d0-dca373a59751",
   "metadata": {},
   "source": [
    "# Requirements:"
   ]
  },
  {
   "cell_type": "code",
   "execution_count": null,
   "id": "811d3e6e-284c-47c0-98a2-f831e71a8f33",
   "metadata": {},
   "outputs": [],
   "source": [
    "!pip install numpy==1.26.4"
   ]
  },
  {
   "cell_type": "markdown",
   "id": "277d7df7-46b1-421f-8f17-cc64c8ce00b4",
   "metadata": {},
   "source": [
    "After executing the cell above, go to \"Runtime\" -> \"Restart Session\" (once). Otherwise the new (and needed) numpy version will not be recognized by Colab."
   ]
  },
  {
   "cell_type": "code",
   "execution_count": null,
   "id": "f433a452-cde8-4a1b-88f7-26aa1e16d886",
   "metadata": {},
   "outputs": [],
   "source": [
    "!wget https://raw.githubusercontent.com/fabratu/nd24/main/networkit-11.0-cp310-cp310-manylinux_2_17_x86_64.manylinux2014_x86_64.whl\n",
    "!wget https://raw.githubusercontent.com/fabratu/nd24/main/karate\n",
    "!wget https://raw.githubusercontent.com/fabratu/nd24/main/PGPgiantcompo.graph"
   ]
  },
  {
   "cell_type": "code",
   "execution_count": null,
   "id": "79e85ecb-5b26-4e15-959b-1a069ac84ca3",
   "metadata": {},
   "outputs": [],
   "source": [
    "%pip install --force-reinstall ./networkit-11.0-cp310-cp310-manylinux_2_17_x86_64.manylinux2014_x86_64.whl\n",
    "%pip install seaborn plotly ipycytoscape networkx tabulate"
   ]
  },
  {
   "cell_type": "markdown",
   "id": "dddb527f-71d9-44f5-a7ba-3ecae9802008",
   "metadata": {},
   "source": [
    "The two cells above need also only to be executed once before you start with the content. Enjoy!"
   ]
  },
  {
   "cell_type": "markdown",
   "id": "fac30d53-d1dc-4024-b2b1-2103d89228a2",
   "metadata": {
    "tags": []
   },
   "source": [
    "# NetworKit Introduction\n",
    "\n",
    "At first, we import NetworKit as a Python module. The underlying C++ core is loaded automatically (similar to scipy, sklearn, numpy, ...)\n"
   ]
  },
  {
   "cell_type": "code",
   "execution_count": null,
   "id": "b25e287a-dea5-489a-9309-4f157d12fff1",
   "metadata": {},
   "outputs": [],
   "source": [
    "import networkit as nk"
   ]
  },
  {
   "cell_type": "markdown",
   "id": "4d8b24d0-ad83-4dfb-a114-691659606c9b",
   "metadata": {},
   "source": [
    "## Creating a graph\n",
    "\n",
    "Let us start by reading a network from a file on disk: `PGPgiantcompo.graph` network. In the course of this tutorial, we are going to work on the `PGPgiantcompo` network, a social network/web of trust in which nodes are PGP keys and an edge represents a signature from one key on another. It is distributed with NetworKit as a good starting point.\n",
    "\n",
    "Network datasets are available in different formats. NetworKit supports many popular formats, like Edgelist, SNAP, MatrixMarket and more. `PGPgiantcompo.graph` is present in the so called `METIS` format. For reading the graph from disk, we can use therefore the `METISGraphReader`. "
   ]
  },
  {
   "cell_type": "code",
   "execution_count": null,
   "id": "69f49786-d642-4afb-81d2-399a43e2f2bc",
   "metadata": {},
   "outputs": [],
   "source": [
    "# Read a METIS Graph (sparse adjacency matrix)\n",
    "G = nk.graphio.METISGraphReader().read('PGPgiantcompo.graph')"
   ]
  },
  {
   "cell_type": "markdown",
   "id": "83d444f2-c161-4d89-8277-efd61c6f3961",
   "metadata": {},
   "source": [
    "In case we don't know the format of a network, there exists also a convenient function in the top namespace which tries to guess the input format and select the appropriate reader:"
   ]
  },
  {
   "cell_type": "code",
   "execution_count": null,
   "id": "9e53f201-69d6-42d5-87b9-a11009edd3fe",
   "metadata": {},
   "outputs": [],
   "source": [
    "G = nk.readGraph('PGPgiantcompo.graph')"
   ]
  },
  {
   "cell_type": "code",
   "execution_count": null,
   "id": "9c11e748-9090-4546-8d6e-8b5a1f8d4e17",
   "metadata": {},
   "outputs": [],
   "source": [
    "# Print basic informations of the network\n",
    "\n",
    "nk.overview(G)"
   ]
  },
  {
   "cell_type": "markdown",
   "id": "36ae9ed1-bc45-4c6c-a2e4-c60e0cc9ae5f",
   "metadata": {},
   "source": [
    "### Graph from Numpy, Scipy and Pandas data"
   ]
  },
  {
   "cell_type": "markdown",
   "id": "a9ccd417-c6ff-4842-a19f-46b42fc63bba",
   "metadata": {},
   "source": [
    "In addition to reading a graph from file, it is also possible to create a graph based on given input data in COO (coordinate) format by using `nk.GraphFromCoo(...)`. The parameter syntax is related to `scipy.sparse.coo_array`. We start by manually define row, col and data arrays (whereas `A[row[k], col[k]] = data[k]`) and use them as a constructed tuple in the form (data, (row, col))."
   ]
  },
  {
   "cell_type": "code",
   "execution_count": null,
   "id": "ac7e937e-2c15-410e-9afe-bb7ac5ed1b7a",
   "metadata": {},
   "outputs": [],
   "source": [
    "import numpy as np\n",
    "import scipy as sc\n",
    "import pandas as pd\n",
    "\n",
    "# Start with numpy\n",
    "row = np.array([0, 1, 2])\n",
    "col = np.array([1, 2, 0])\n",
    "data = np.array([1.0, 1.0, 1.0])\n",
    "\n",
    "GData = nk.GraphFromCoo((data,(row,col)))\n",
    "\n",
    "nk.overview(GData)"
   ]
  },
  {
   "cell_type": "markdown",
   "id": "209723fc-be80-44d0-9a70-4096922cae15",
   "metadata": {},
   "source": [
    "For speedup purposes, it is possible to also pass the number of expected nodes as a parameter. Due to the tiny size of our example graph, the difference is very small in this case. However, for the majority of use cases, providing n results in a much faster creation of the graph.\n",
    "\n",
    "It is also possible to omit the `data` frame. In this case the resulting edge weight will all be `1.0`."
   ]
  },
  {
   "cell_type": "code",
   "execution_count": null,
   "id": "d5f0ec04-26f7-46f7-88d1-48b59bb0b2e9",
   "metadata": {},
   "outputs": [],
   "source": [
    "row = np.random.randint(50, size=50)\n",
    "col = np.random.randint(50, size=50)\n",
    "\n",
    "GData = nk.GraphFromCoo((row,col), n = 50)"
   ]
  },
  {
   "cell_type": "code",
   "execution_count": null,
   "id": "69cdb860-4b83-4b97-963e-5eebbf2daea6",
   "metadata": {},
   "outputs": [],
   "source": [
    "nk.overview(GData)"
   ]
  },
  {
   "cell_type": "markdown",
   "id": "c5621290-208e-43ea-a4ea-814bfbfc025c",
   "metadata": {},
   "source": [
    "Additionally we can also create a graph from a `scipy.sparse.coo_matrix`."
   ]
  },
  {
   "cell_type": "code",
   "execution_count": null,
   "id": "96c4dca9-6bc6-40b3-97bd-2bb85cca412d",
   "metadata": {},
   "outputs": [],
   "source": [
    "data = np.random.random((50,))\n",
    "\n",
    "# From SciPy\n",
    "S = sc.sparse.coo_matrix((data, (row, col)), dtype = np.double)\n",
    "\n",
    "GData = nk.GraphFromCoo(S, n=50)\n",
    "nk.overview(GData)"
   ]
  },
  {
   "cell_type": "markdown",
   "id": "1acbaf72-810a-4a99-9ea5-6f3e8b31b864",
   "metadata": {},
   "source": [
    "A common usecase involves data handling via pandas. Since the underlying data structure is easily transformed to arrays create graphs from pandas DataFrames. In our example we define a set of people (Alice, Bob, Carol, Dan, Erin and Frank) and relationships between them. Each row in the DataFrame describes a (directed) relation from `People_1` to `People_2`. For example Alice has a relationship to Carol (not necessarely the other way around, therefore directed)."
   ]
  },
  {
   "cell_type": "code",
   "execution_count": null,
   "id": "2c7b7771-09af-4c7d-8f8a-a93cb8088f4e",
   "metadata": {},
   "outputs": [],
   "source": [
    "# From pandas\n",
    "persons = pd.CategoricalDtype(categories=['Alice', 'Bob', 'Carol', 'Dan', 'Erin', 'Frank'], ordered=True)\n",
    "relations = [('Alice', 'Carol'), ('Bob', 'Dan'), ('Dan', 'Erin'), ('Carol', 'Frank')]\n",
    "\n",
    "friends_df = pd.DataFrame(relations, columns=['Person_1', 'Person_2']).astype(persons)\n",
    "print(friends_df)"
   ]
  },
  {
   "cell_type": "code",
   "execution_count": null,
   "id": "3a64a40f-cfe0-4213-a9d4-3b59e6d50728",
   "metadata": {},
   "outputs": [],
   "source": [
    "GData = nk.GraphFromCoo((friends_df['Person_1'].cat.codes.to_numpy(dtype=np.uint, copy = False), friends_df['Person_2'].cat.codes.to_numpy(dtype=np.uint, copy = False)), n = len(persons.categories), directed = True)\n",
    "\n",
    "nk.overview(GData)"
   ]
  },
  {
   "cell_type": "markdown",
   "id": "53cb703f-ab48-4230-8957-37e1e25a4328",
   "metadata": {},
   "source": [
    "## The Graph Object\n",
    "\n",
    "![Graph](https://upload.wikimedia.org/wikipedia/commons/b/bf/Undirected.svg)\n",
    "\n",
    "\n",
    "`Graph` is the central class of NetworKit. An object of this type represents an undirected, optionally directed and/or weighted network. \n",
    "\n",
    "Coming back to the `PGPgiantcompo.graph`. Let us inspect several of the methods which the class provides."
   ]
  },
  {
   "cell_type": "code",
   "execution_count": null,
   "id": "67cc8ded-5c4f-4d91-8d78-9c7f7280d554",
   "metadata": {},
   "outputs": [],
   "source": [
    "print(G.numberOfNodes(), G.numberOfEdges())"
   ]
  },
  {
   "cell_type": "markdown",
   "id": "d19d6880-f857-409e-8a58-70e108193b70",
   "metadata": {},
   "source": [
    "Nodes are simply integer indices, and edges are pairs of such indices."
   ]
  },
  {
   "cell_type": "code",
   "execution_count": null,
   "id": "608dec87-f0af-4bb7-8b76-97cbfabf4c58",
   "metadata": {},
   "outputs": [],
   "source": [
    "for u in G.iterNodes():\n",
    "    if u > 5:\n",
    "        print('...')\n",
    "        break\n",
    "    print(u)"
   ]
  },
  {
   "cell_type": "code",
   "execution_count": null,
   "id": "f631b2bc-207e-4323-94a4-d0d04d0aed4e",
   "metadata": {},
   "outputs": [],
   "source": [
    "i = 0\n",
    "for u, v in G.iterEdges():\n",
    "    if i > 5:\n",
    "        print('...')\n",
    "        break\n",
    "    print(u, v)\n",
    "    i += 1\n"
   ]
  },
  {
   "cell_type": "markdown",
   "id": "b37e0c28-73bd-437b-84ed-d595073d5ab3",
   "metadata": {},
   "source": [
    "Now that we have created a graph we can start to play around with it. Say we want to remove the node with the node ID 10, so the third node. We can easily do so using `Graph.removeNode(node u)`."
   ]
  },
  {
   "cell_type": "code",
   "execution_count": null,
   "id": "ec0ef244-e65f-4045-b6f9-f00f375f7683",
   "metadata": {},
   "outputs": [],
   "source": [
    "G.removeNode(10)"
   ]
  },
  {
   "cell_type": "code",
   "execution_count": null,
   "id": "ae6e70b2-81f3-4c66-9ad6-e34b77d3ec6e",
   "metadata": {},
   "outputs": [],
   "source": [
    "# 10 has been deleted\n",
    "print(G.hasNode(10))"
   ]
  },
  {
   "cell_type": "markdown",
   "id": "28c13add-b831-4659-9665-ed00ae8ca167",
   "metadata": {},
   "source": [
    "The node has been remove from the graph, however, the node IDs are not adjusted to the match the new number of nodes. Hence, if we want to restore the node we previously removed from G, we can do so using `Graph.restoreNode(node u)` using the original node ID."
   ]
  },
  {
   "cell_type": "code",
   "execution_count": null,
   "id": "b78d9310-ed48-4178-8a4a-4b734b4ccb03",
   "metadata": {},
   "outputs": [],
   "source": [
    "G.restoreNode(10)"
   ]
  },
  {
   "cell_type": "markdown",
   "id": "709a60b2-264e-4d18-ba77-7a69196af947",
   "metadata": {},
   "source": [
    "## Node and Edge Attributes"
   ]
  },
  {
   "cell_type": "markdown",
   "id": "0f342f7e-ff50-4282-ab24-73771f0f9dde",
   "metadata": {},
   "source": [
    "It is possible to attach attributes to the nodes of a NetworKit graph with `attachNodeAttribute`. Attributes in Python can be of type str, float, or int. In C++ it is possible to add arbitrary types. We will use here the Python interface."
   ]
  },
  {
   "cell_type": "code",
   "execution_count": null,
   "id": "61acd073-3e8f-4f6e-9e57-d91a9c3b488a",
   "metadata": {},
   "outputs": [],
   "source": [
    "GAttr = nk.readGraph(\"karate\")\n",
    "\n",
    "# Create a new attribute named 'taste' of type 'str'\n",
    "att = GAttr.attachNodeAttribute(\"taste\", str)\n",
    "\n",
    "# Set attribute values by interacting with the attribute object. It references the specific attribute storage for the graph.\n",
    "att[0] = \"sweet\" # Attribute of node 0\n",
    "att[1] = \"umami\" # Attribute of node 1\n",
    "\n",
    "# Get attribute value\n",
    "for u in GAttr.iterNodes():\n",
    "    try:\n",
    "        print(f\"Attribute of node {u} is {att[u]}\")\n",
    "    except ValueError:\n",
    "        print(f\"Node {u} has no attribute\")\n",
    "        break    \n"
   ]
  },
  {
   "cell_type": "markdown",
   "id": "c348d97d-8b60-4c75-a6da-85f6897be04f",
   "metadata": {},
   "source": [
    "In the same way, it is also possible to add edge attributes to a NetworKit graph with `attachEdgeAttribute`. Attributes can be of type str, float, or int. Note that the edges of the graph have to be indexed.\n",
    "\n",
    "\n",
    "It is possible to access the attributes both by edge index and by endpoints. Note: Access by edge index can be much slower compared to access by endpoints, therefore best use `att[u, v]` for access."
   ]
  },
  {
   "cell_type": "code",
   "execution_count": null,
   "id": "e3c6d964-be9c-42b9-9eda-b1a3d77f0fad",
   "metadata": {},
   "outputs": [],
   "source": [
    "# Add some edges\n",
    "GAttr = nk.Graph(4)\n",
    "GAttr.addEdge(0,1)\n",
    "GAttr.addEdge(1,2)\n",
    "GAttr.addEdge(0,3)\n",
    "\n",
    "# Call indexEdges once (all edges inserted afterwards will also get indexed)\n",
    "GAttr.indexEdges()\n",
    "\n",
    "# Create a new attribute named 'rating' of type 'float'\n",
    "try:\n",
    "    attrEdge = GAttr.getEdgeAttribute(\"rating\", float)\n",
    "except:\n",
    "    attrEdge = GAttr.attachEdgeAttribute(\"rating\", float)\n",
    "\n",
    "# Set attribute values\n",
    "attrEdge[0, 1] = 8.1 # Attribute of edge 0-1\n",
    "attrEdge[0, 3] = 2.1 # Attribute of node 0-2\n",
    "\n",
    "# Get attribute value by edge endpoints (fast)\n",
    "for u,v in GAttr.iterEdges():\n",
    "    try:\n",
    "        print(f\"Attribute of edge ({u},{v}) is {attrEdge[v,u]}\")\n",
    "    except ValueError:\n",
    "        print(f\"Edge ({u},{v}) has no attribute\")\n",
    "        break    \n",
    "\n"
   ]
  },
  {
   "cell_type": "markdown",
   "id": "6cb3397b-d171-4717-849c-d62be5e7e033",
   "metadata": {},
   "source": [
    "### Convert networkx to networkit (with attributes)"
   ]
  },
  {
   "cell_type": "code",
   "execution_count": null,
   "id": "dc4bef1a-5614-480f-befb-51494dcb80e3",
   "metadata": {},
   "outputs": [],
   "source": [
    "import networkx as nx\n",
    "\n",
    "# 0 - 1\n",
    "# |   |\n",
    "# 3   2\n",
    "\n",
    "Gnx = nx.Graph()\n",
    "Gnx.add_edge(0, 1)\n",
    "Gnx.add_edge(1, 2)\n",
    "Gnx.add_edge(0, 3)\n",
    "\n",
    "Gnx.nodes[0][\"taste\"] = \"sweet\"\n",
    "Gnx.nodes[1][\"taste\"] = \"umami\"\n",
    "\n",
    "Gnx[0][1][\"rating\"] = 8.1\n",
    "Gnx[0][3][\"rating\"] = 2.1"
   ]
  },
  {
   "cell_type": "code",
   "execution_count": null,
   "id": "628a0c3a-407a-47c1-866a-b90cad3c8e82",
   "metadata": {},
   "outputs": [],
   "source": [
    "# Convert networkx graph to networkit transfering the data\n",
    "Gnk = nk.nxadapter.nx2nk(Gnx, data=True)\n",
    "tasteAttr = Gnk.getNodeAttribute(\"taste\", str)\n",
    "ratingAttr = Gnk.getEdgeAttribute(\"rating\", float)\n",
    "\n",
    "print(f\"Attribute of node 0: {tasteAttr[0]}\")\n",
    "print(f\"Attribute of edge 0-3: {ratingAttr[0,3]}\")"
   ]
  },
  {
   "cell_type": "code",
   "execution_count": null,
   "id": "e5e4ea7c-4178-4308-b99d-4d348a9d3786",
   "metadata": {},
   "outputs": [],
   "source": [
    "Gnx[1][2][\"rating\"] = 1.0\n",
    "\n",
    "# Do the same but use \"rating\" as an edge weight\n",
    "Gnk = nk.nxadapter.nx2nk(Gnx, weightAttr=\"rating\", data=True)\n",
    "print(f\"Weight of edge 0-1: {Gnk.weight(0,1)}\")"
   ]
  },
  {
   "cell_type": "markdown",
   "id": "296f3b44-7c3f-4e5b-a191-e31a7db97f21",
   "metadata": {},
   "source": [
    "## Connected Components\n",
    "\n",
    "![Components](https://upload.wikimedia.org/wikipedia/commons/3/38/Equivalentie.svg)\n",
    "\n",
    "A connected component is a set of nodes in which each pair of nodes is connected by a path. We use this component extraction as an example of how algorithms are designed in NetworKit. An algorithm is always an object, which usually is created by providing the reference (parameter) to a given `Graph` object. \n",
    "\n",
    "```\n",
    "myAlgorithm = nk.module.Algorithm(Graph)\n",
    "```\n",
    "\n",
    "This creation also includes necessary setup steps. Afterwards we call `Algorithm.run()` to execute the computational heavy logic. In the end we can receive (depending on the category of the algorithm) the results.\n",
    "\n",
    "```\n",
    "myAlgorithm.run()\n",
    "myResult = myAlgorithm.results()\n",
    "```\n",
    "\n",
    "We use this scheme to determine the connected components of a graph:"
   ]
  },
  {
   "cell_type": "code",
   "execution_count": null,
   "id": "5bbce126-9871-4d3f-93fb-de905230c69e",
   "metadata": {},
   "outputs": [],
   "source": [
    "nk.overview(G)"
   ]
  },
  {
   "cell_type": "code",
   "execution_count": null,
   "id": "d7e41309-8602-45a7-9a12-44e8e134fe18",
   "metadata": {},
   "outputs": [],
   "source": [
    "\n",
    "\n",
    "cc = nk.components.ConnectedComponents(G)\n",
    "cc.run()\n",
    "print(\"number of components \", cc.numberOfComponents())\n",
    "v = 0\n",
    "print(\"component of node \", v , \": \" , cc.componentOfNode(0))\n",
    "print(\"map of component sizes: \", cc.getComponentSizes())"
   ]
  },
  {
   "cell_type": "markdown",
   "id": "03195f0e-5092-4f46-bc58-05f40593d47f",
   "metadata": {},
   "source": [
    "## Visualization\n",
    "\n",
    "The vizbridges module provides the widgetFromGraph function, which creates and returns Python widgets for graph visualization. Per default, a graph is plotted in 2D using the Python-package ipycytoscape. If the parameter dimension to 3D, the graph network is plotted in 3D using plotly. For this to work one or both of the packages have to be installed on the machine where the Jupyter backend is running. The default mode is 2D. There is an optional parameter for node scores or a partition list (e.g. as a result of from centrality or community detection algorithms). If provided, the nodes are colored according to their partition membership or score.\n"
   ]
  },
  {
   "cell_type": "markdown",
   "id": "b107b757-9189-485f-8cb0-24f306bcb836",
   "metadata": {},
   "source": [
    "### Visualize in 2D using Cytoscape\n",
    "\n",
    "When plotting a graph in 2D with Cytoscape, the internal layouting algorithm from Cytoscape is used. This and the performance of the plugin makes this visualization suitable for graphs with up to around 500 nodes. For larger graphs, it is recommended to use the 3D visualization. So at first we load and visualize a smaller example, the well known karate graph.\n",
    "\n",
    "Link: https://cytoscape.org/\n"
   ]
  },
  {
   "cell_type": "code",
   "execution_count": null,
   "id": "b0adc8d1-98cc-4f13-9b40-5ce1bda429aa",
   "metadata": {},
   "outputs": [],
   "source": [
    "from networkit import vizbridges\n",
    "from google.colab import output\n",
    "output.enable_custom_widget_manager()\n",
    "\n",
    "# Read a KONECT graph (adjacency list)\n",
    "G = nk.readGraph('karate')\n",
    "nk.overview(G)\n",
    "\n",
    "# Visualize the Karate graph\n",
    "nk.vizbridges.widgetFromGraph(G)"
   ]
  },
  {
   "cell_type": "markdown",
   "id": "e07b3f10-fe5a-4601-89fc-f388ffe6e39b",
   "metadata": {},
   "source": [
    "### Visualize in 3D using Plotly\n",
    "\n",
    "When plotting a graph in 3D with Plotly, the Maxent-Stress layouting from `networkit.viz.MaxentStress` is used. With a moderate to decent client, graph visualizations with up to 50k of nodes are possible. Note: The time it takes for generating the widget scales with the number of nodes.\n",
    "\n",
    "Link: https://plotly.com/\n"
   ]
  },
  {
   "cell_type": "code",
   "execution_count": null,
   "id": "1058c26a-ed19-476a-b71f-06d72157fee4",
   "metadata": {},
   "outputs": [],
   "source": [
    "# Visualize the graph in 3D\n",
    "myWidget = nk.vizbridges.widgetFromGraph(G, dimension = nk.vizbridges.Dimension.Three)\n",
    "myWidget.show()"
   ]
  },
  {
   "cell_type": "markdown",
   "id": "4dde0074-2f12-4834-9532-4b56820c5c08",
   "metadata": {},
   "source": [
    "\n",
    "# Additional Stuff"
   ]
  },
  {
   "cell_type": "markdown",
   "id": "905b9277-bbc1-460b-adfd-30e31af03d5d",
   "metadata": {
    "tags": []
   },
   "source": [
    "## Degree Distribution\n",
    "\n",
    "![DD](https://upload.wikimedia.org/wikipedia/commons/9/97/UndirectedDegrees.svg)\n",
    "\n",
    "\n",
    "Node degree, the number of edges connected to a node, is one of the most studied properties of networks. Types of networks are often characterized in terms of their distribution of node degrees. We obtain and visualize the degree distribution of our example network as follows."
   ]
  },
  {
   "cell_type": "code",
   "execution_count": null,
   "id": "3aac55f4-f87e-41d9-96e7-d71325130c05",
   "metadata": {},
   "outputs": [],
   "source": [
    "nk.plot.degreeDistribution(G)"
   ]
  },
  {
   "cell_type": "markdown",
   "id": "c8eb833a-f50c-4a67-9588-5253d18bc8b4",
   "metadata": {},
   "source": [
    "As we can see, most of the nodes are connected to only a few edges. It might be beneficial to visualize the degrees in a log-log-plot:"
   ]
  },
  {
   "cell_type": "code",
   "execution_count": null,
   "id": "a990a44c-794d-49ab-a1d3-1388d6c8384c",
   "metadata": {},
   "outputs": [],
   "source": [
    "import numpy\n",
    "import matplotlib.pyplot as plt\n",
    "dd = sorted(nk.centrality.DegreeCentrality(G).run().scores(), reverse=True)\n",
    "degrees, numberOfNodes = numpy.unique(dd, return_counts=True)\n",
    "plt.xscale(\"log\")\n",
    "plt.xlabel(\"degree\")\n",
    "plt.yscale(\"log\")\n",
    "plt.ylabel(\"number of nodes\")\n",
    "plt.plot(degrees, numberOfNodes)\n",
    "plt.show()\n"
   ]
  },
  {
   "cell_type": "markdown",
   "id": "c5715df9-a293-45cb-9f3e-3c6122dbc783",
   "metadata": {},
   "source": [
    "## Community Detection\n",
    "\n",
    "![Community](https://upload.wikimedia.org/wikipedia/commons/f/f4/Network_Community_Structure.svg)\n",
    "\n",
    "This section demonstrates the community detection capabilities of NetworKit. Community detection is concerned with identifying groups of nodes which are significantly more densely connected to eachother than to the rest of the network.\n",
    "\n",
    "Code for community detection is contained in the `community` module. The module provides a top-level function to quickly perform community detection with a suitable algorithm and print some stats about the result.\n"
   ]
  },
  {
   "cell_type": "code",
   "execution_count": null,
   "id": "e5c0b476-ef06-4103-a024-64ab7eb4126a",
   "metadata": {},
   "outputs": [],
   "source": [
    "nk.community.detectCommunities(G)"
   ]
  },
  {
   "cell_type": "markdown",
   "id": "508a7dfb-4ebd-4871-9768-f4dda2ef9bbd",
   "metadata": {},
   "source": [
    "The function prints some statistics and returns the partition object representing the communities in the network as an assignment of node to community label. "
   ]
  },
  {
   "cell_type": "markdown",
   "id": "3d881f75-befa-4ed9-a8e8-623f5183a3db",
   "metadata": {},
   "source": [
    "`Modularity` is the primary measure for the quality of a community detection solution. The value is in the range [-0.5,1] and usually depends both on the performance of the algorithm and the presence of distinctive community structures in the network."
   ]
  },
  {
   "cell_type": "markdown",
   "id": "2ccef599-59e2-481f-bf78-9ced52325362",
   "metadata": {},
   "source": [
    "### Choice of Algorithm\n",
    "\n",
    "The community detection function used a good default choice for an algorithm: PLM, our parallel implementation of the well-known Louvain method. It yields a high-quality solution at reasonably fast running times. But there are other choices, like the Leiden algorithm. This leads to a similar modularity score than the default one, but the communities are more evenly sized. However, as often, the results are really depending on the network at hand. For `PGPgiantcompo`, Leiden does lead to inferior results."
   ]
  },
  {
   "cell_type": "code",
   "execution_count": null,
   "id": "5f35a534-f227-408e-9204-0172146662f5",
   "metadata": {},
   "outputs": [],
   "source": [
    "nk.community.detectCommunities(G, algo=nk.community.ParallelLeiden(G, randomize=False, iterations=100))"
   ]
  },
  {
   "cell_type": "markdown",
   "id": "0a4193eb-87c5-4388-88e0-05b0843f7c86",
   "metadata": {},
   "source": [
    "So instead, let’s capture the result of the default function call."
   ]
  },
  {
   "cell_type": "code",
   "execution_count": null,
   "id": "549438be-928f-4d73-a22a-1aca3022647e",
   "metadata": {},
   "outputs": [],
   "source": [
    "communities = nk.community.detectCommunities(G)"
   ]
  },
  {
   "cell_type": "markdown",
   "id": "91f7c553-ef2a-41f1-ae9e-5478f78358c7",
   "metadata": {},
   "source": [
    "## Visualizing bigger graphs (different options)"
   ]
  },
  {
   "cell_type": "markdown",
   "id": "efc9d0c7-e309-48d5-9451-609451f6ca3d",
   "metadata": {},
   "source": [
    "A note on a datastructure called a `Partition`. A partition is a datastructure, which in our context places the graph nodes into different disjoint subsets. The community detection algorithm produces such partition object. We can feed this into the plotting mechanism in order to visualize the communities of our graph.\n",
    "\n",
    "Therefore first we again load the `PGPgiantcompo` network and then visualize both the network and the communities. Not that the generation of the 3D layout can take some seconds."
   ]
  },
  {
   "cell_type": "code",
   "execution_count": null,
   "id": "89d3a97b-b47b-44dd-a1a7-c88f1f961122",
   "metadata": {},
   "outputs": [],
   "source": [
    "# Only execute this cell in your own environment. Colab is likely to constrained on resources.\n",
    "# myWidget = nk.vizbridges.widgetFromGraph(G, dimension = nk.vizbridges.Dimension.Three, nodePartition = communities)\n",
    "# myWidget.show()"
   ]
  },
  {
   "cell_type": "markdown",
   "id": "de30e651-7b3e-4237-82e1-3cc67b1d80d6",
   "metadata": {},
   "source": [
    "Oops!\n",
    "\n",
    "As we can see, the visualization is colorful and we can see the different communities, however information extraction is difficult due to the density and amount of nodes involved. We can approach this problem for example in two ways:\n",
    "\n",
    "(i) Sparsification of the graph\n",
    "\n",
    "(ii) Looking only a subset of nodes (subgraph) and investigate further"
   ]
  },
  {
   "cell_type": "markdown",
   "id": "19d99626-1536-486e-8d27-cb081a4a5f42",
   "metadata": {},
   "source": [
    "### First method: Sparsify the graph"
   ]
  },
  {
   "cell_type": "code",
   "execution_count": null,
   "id": "b101dfb3-e735-4e40-8dda-bf17869752e8",
   "metadata": {
    "scrolled": true
   },
   "outputs": [],
   "source": [
    "# Initialize the algorithm\n",
    "jaccard = nk.sparsification.JaccardSimilaritySparsifier()\n",
    "\n",
    "# Set the ratio of preserved edges\n",
    "targetRatio = 0.25\n",
    "\n",
    "# Get sparsified graph\n",
    "G.indexEdges()\n",
    "GSparsified = jaccard.getSparsifiedGraphOfSize(G, targetRatio)\n",
    "\n",
    "nk.overview(GSparsified)"
   ]
  },
  {
   "cell_type": "markdown",
   "id": "586bc547-a5ca-44ff-ab51-7e29efdd70c5",
   "metadata": {},
   "source": [
    "The new sparsified graph is the same as before, but with fewer connections between the nodes. This also means, that some node can not anymore reach other nodes directly. For further analysis it often makes sense to extract the largest connected component - so the largest group of nodes, which can all reach each other."
   ]
  },
  {
   "cell_type": "code",
   "execution_count": null,
   "id": "9cf36011-8064-42ba-8346-f0dd43c91ae7",
   "metadata": {},
   "outputs": [],
   "source": [
    "\n",
    "GSparsifiedCC = nk.components.ConnectedComponents.extractLargestConnectedComponent(GSparsified, compactGraph = True)\n",
    "nk.overview(GSparsifiedCC)"
   ]
  },
  {
   "cell_type": "code",
   "execution_count": null,
   "id": "dcecab71-0532-45f4-b0f3-ffc25faa746a",
   "metadata": {},
   "outputs": [],
   "source": [
    "communitiesSparsified = nk.community.detectCommunities(GSparsifiedCC)\n",
    "\n",
    "myWidget = nk.vizbridges.widgetFromGraph(GSparsifiedCC, dimension = nk.vizbridges.Dimension.Three, nodePartition = communitiesSparsified)\n",
    "myWidget.show()"
   ]
  },
  {
   "cell_type": "markdown",
   "id": "fc796a2e-969e-4790-939b-acfe25302869",
   "metadata": {},
   "source": [
    "## Second method: Subgraph\n",
    "\n",
    "NetworKit supports the creation of Subgraphs depending on an original graph and a set of nodes. This might be useful in case you want to analyze certain communities of a graph. And it also helps us in terms of visualizing information. Let’s say that community 2 of the above result is of further interest, so we want a new graph that consists of nodes and intra cluster edges of community 2.\n",
    "\n",
    "Note: add visualization of nodes"
   ]
  },
  {
   "cell_type": "code",
   "execution_count": null,
   "id": "b663c5ea-b490-4c56-b47c-a649e5cabee1",
   "metadata": {},
   "outputs": [],
   "source": [
    "c2 = communities.getMembers(2)\n",
    "GSub = nk.graphtools.subgraphFromNodes(G, c2, compact=True)\n",
    "\n",
    "nk.overview(GSub)"
   ]
  },
  {
   "cell_type": "code",
   "execution_count": null,
   "id": "d83bb1cb-8971-4dac-8fa9-7b3f1c33fbaa",
   "metadata": {},
   "outputs": [],
   "source": [
    "communities2 = nk.community.detectCommunities(GSub)\n",
    "\n",
    "nk.vizbridges.widgetFromGraph(GSub, dimension = nk.vizbridges.Dimension.Two, nodePartition=communities2)"
   ]
  }
 ],
 "metadata": {
  "kernelspec": {
   "display_name": "Python 3 (ipykernel)",
   "language": "python",
   "name": "python3"
  },
  "language_info": {
   "codemirror_mode": {
    "name": "ipython",
    "version": 3
   },
   "file_extension": ".py",
   "mimetype": "text/x-python",
   "name": "python",
   "nbconvert_exporter": "python",
   "pygments_lexer": "ipython3",
   "version": "3.8.17"
  }
 },
 "nbformat": 4,
 "nbformat_minor": 5
}
